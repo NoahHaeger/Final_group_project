{
 "cells": [
  {
   "cell_type": "code",
   "execution_count": 6,
   "id": "fefaf8eb-a814-43b4-a7b6-0380b36c564b",
   "metadata": {},
   "outputs": [],
   "source": [
    "from selenium import webdriver\n",
    "from selenium.webdriver.common.by import By \n",
    "from selenium.webdriver.chrome.service import Service \n",
    "from webdriver_manager.chrome import ChromeDriverManager\n",
    "from selenium.webdriver.common.keys import Keys\n",
    "import time\n",
    "import random\n",
    "import pandas as pd"
   ]
  },
  {
   "cell_type": "markdown",
   "id": "e310145e-d86c-4d0e-b362-541f719a3090",
   "metadata": {},
   "source": [
    "# this is the only scraping we have. \n",
    "# here is a link to the website https://sportsdata.usatoday.com/ncaa/finances\n",
    "# we are taking the columns \"Rank\", \"School\", \"Conference\", \"Total Allocated\""
   ]
  },
  {
   "cell_type": "code",
   "execution_count": 7,
   "id": "5304b3bb-c2c1-4b34-b03d-99aa19074ec2",
   "metadata": {},
   "outputs": [
    {
     "name": "stdout",
     "output_type": "stream",
     "text": [
      "CSV file 'Total_allocation.csv' created successfully!\n"
     ]
    }
   ],
   "source": [
    "# Setting up the Chrome WebDriver\n",
    "# we are scrapuing the data and turning it into a csv\n",
    "service = Service(ChromeDriverManager().install())\n",
    "driver = webdriver.Chrome(service=service)\n",
    "\n",
    "# URL to scrape\n",
    "url = \"https://sportsdata.usatoday.com/ncaa/finances\"\n",
    "driver.get(url)\n",
    "\n",
    "# Allow time for the page to load\n",
    "time.sleep(5)\n",
    "\n",
    "data = []\n",
    "\n",
    "try:\n",
    "    # Locate table rows on the page\n",
    "    table_rows = driver.find_elements(By.TAG_NAME, \"tr\")\n",
    "\n",
    "    # Iterate through rows and collect data\n",
    "    for row in table_rows[1:]:\n",
    "        columns = row.find_elements(By.TAG_NAME, \"td\")\n",
    "        if columns:\n",
    "            rank = columns[0].text\n",
    "            school = columns[1].text\n",
    "            conference = columns[2].text\n",
    "            total_allocated = columns[4].text\n",
    "            data.append([rank, school, conference, total_allocated])\n",
    "finally:\n",
    "    # Close the browser\n",
    "    driver.quit()\n",
    "# Create a DataFrame from the scraped data\n",
    "Total_allocation_df = pd.DataFrame(data, columns=[\"Rank\", \"School\", \"Conference\", \"Total Allocated\"])\n",
    "\n",
    "# Save the DataFrame to a CSV file\n",
    "Total_allocation_df.to_csv('Total_allocation_raw.csv', index=False)"
   ]
  },
  {
   "cell_type": "code",
   "execution_count": null,
   "id": "7072b0fa-78e2-4556-9e2d-585167b71687",
   "metadata": {},
   "outputs": [],
   "source": [
    "# after saving the csv, we are doing the rest of the coding the our main file"
   ]
  }
 ],
 "metadata": {
  "kernelspec": {
   "display_name": "Python 3 (ipykernel)",
   "language": "python",
   "name": "python3"
  },
  "language_info": {
   "codemirror_mode": {
    "name": "ipython",
    "version": 3
   },
   "file_extension": ".py",
   "mimetype": "text/x-python",
   "name": "python",
   "nbconvert_exporter": "python",
   "pygments_lexer": "ipython3",
   "version": "3.12.4"
  }
 },
 "nbformat": 4,
 "nbformat_minor": 5
}
